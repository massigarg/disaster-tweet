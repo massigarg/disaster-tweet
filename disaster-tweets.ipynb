{
 "cells": [
  {
   "cell_type": "code",
   "execution_count": 1,
   "metadata": {},
   "outputs": [
    {
     "name": "stderr",
     "output_type": "stream",
     "text": [
      "[nltk_data] Downloading package vader_lexicon to\n",
      "[nltk_data]     C:\\Users\\massi\\AppData\\Roaming\\nltk_data...\n",
      "[nltk_data]   Package vader_lexicon is already up-to-date!\n"
     ]
    }
   ],
   "source": [
    "#importing libraries\n",
    "import pandas as pd\n",
    "import numpy as np\n",
    "from warnings import simplefilter\n",
    "simplefilter(\"ignore\")\n",
    "\n",
    "import matplotlib.pyplot as plt\n",
    "import seaborn as sns\n",
    "%matplotlib inline\n",
    "\n",
    "import chardet #evaluate encoding of csv\n",
    "from keybert import KeyBERT\n",
    "import re\n",
    "import string\n",
    "import nltk\n",
    "from nltk import word_tokenize\n",
    "from nltk.corpus import stopwords        \n",
    "from nltk.sentiment.vader import SentimentIntensityAnalyzer\n",
    "from nltk.stem import PorterStemmer\n",
    "nltk.download(\"vader_lexicon\") # load the Lexicon that quantifies polar sentiment (positive/negative)\n",
    "\n",
    "from sklearn.preprocessing import StandardScaler, LabelEncoder, OneHotEncoder\n",
    "from sklearn.feature_extraction.text import CountVectorizer, TfidfTransformer, TfidfVectorizer\n",
    "from sklearn.pipeline import Pipeline, FeatureUnion\n",
    "# from sklearn.compose import ColumnTransformer\n",
    "from sklearn.decomposition import PCA\n",
    "from sklearn.model_selection import train_test_split"
   ]
  },
  {
   "cell_type": "code",
   "execution_count": 2,
   "metadata": {},
   "outputs": [
    {
     "name": "stdout",
     "output_type": "stream",
     "text": [
      "{'encoding': 'utf-8', 'confidence': 0.99, 'language': ''}\n"
     ]
    }
   ],
   "source": [
    "# look at the first ten thousand bytes to guess the character encoding\n",
    "with open(\"train.csv\", 'rb') as rawdata:\n",
    "    result = chardet.detect(rawdata.read(100000))\n",
    "\n",
    "# check what the character encoding might be\n",
    "print(result)"
   ]
  },
  {
   "cell_type": "code",
   "execution_count": 3,
   "metadata": {},
   "outputs": [],
   "source": [
    "df_train = pd.read_csv(\"train.csv\")\n",
    "X_test = pd.read_csv(\"test.csv\")"
   ]
  },
  {
   "cell_type": "markdown",
   "metadata": {},
   "source": [
    "# EDA"
   ]
  },
  {
   "cell_type": "code",
   "execution_count": 4,
   "metadata": {},
   "outputs": [
    {
     "data": {
      "text/html": [
       "<div>\n",
       "<style scoped>\n",
       "    .dataframe tbody tr th:only-of-type {\n",
       "        vertical-align: middle;\n",
       "    }\n",
       "\n",
       "    .dataframe tbody tr th {\n",
       "        vertical-align: top;\n",
       "    }\n",
       "\n",
       "    .dataframe thead th {\n",
       "        text-align: right;\n",
       "    }\n",
       "</style>\n",
       "<table border=\"1\" class=\"dataframe\">\n",
       "  <thead>\n",
       "    <tr style=\"text-align: right;\">\n",
       "      <th></th>\n",
       "      <th>id</th>\n",
       "      <th>keyword</th>\n",
       "      <th>location</th>\n",
       "      <th>text</th>\n",
       "      <th>target</th>\n",
       "    </tr>\n",
       "  </thead>\n",
       "  <tbody>\n",
       "    <tr>\n",
       "      <th>0</th>\n",
       "      <td>1</td>\n",
       "      <td>NaN</td>\n",
       "      <td>NaN</td>\n",
       "      <td>Our Deeds are the Reason of this #earthquake M...</td>\n",
       "      <td>1</td>\n",
       "    </tr>\n",
       "    <tr>\n",
       "      <th>1</th>\n",
       "      <td>4</td>\n",
       "      <td>NaN</td>\n",
       "      <td>NaN</td>\n",
       "      <td>Forest fire near La Ronge Sask. Canada</td>\n",
       "      <td>1</td>\n",
       "    </tr>\n",
       "    <tr>\n",
       "      <th>2</th>\n",
       "      <td>5</td>\n",
       "      <td>NaN</td>\n",
       "      <td>NaN</td>\n",
       "      <td>All residents asked to 'shelter in place' are ...</td>\n",
       "      <td>1</td>\n",
       "    </tr>\n",
       "    <tr>\n",
       "      <th>3</th>\n",
       "      <td>6</td>\n",
       "      <td>NaN</td>\n",
       "      <td>NaN</td>\n",
       "      <td>13,000 people receive #wildfires evacuation or...</td>\n",
       "      <td>1</td>\n",
       "    </tr>\n",
       "    <tr>\n",
       "      <th>4</th>\n",
       "      <td>7</td>\n",
       "      <td>NaN</td>\n",
       "      <td>NaN</td>\n",
       "      <td>Just got sent this photo from Ruby #Alaska as ...</td>\n",
       "      <td>1</td>\n",
       "    </tr>\n",
       "  </tbody>\n",
       "</table>\n",
       "</div>"
      ],
      "text/plain": [
       "   id keyword location                                               text  \\\n",
       "0   1     NaN      NaN  Our Deeds are the Reason of this #earthquake M...   \n",
       "1   4     NaN      NaN             Forest fire near La Ronge Sask. Canada   \n",
       "2   5     NaN      NaN  All residents asked to 'shelter in place' are ...   \n",
       "3   6     NaN      NaN  13,000 people receive #wildfires evacuation or...   \n",
       "4   7     NaN      NaN  Just got sent this photo from Ruby #Alaska as ...   \n",
       "\n",
       "   target  \n",
       "0       1  \n",
       "1       1  \n",
       "2       1  \n",
       "3       1  \n",
       "4       1  "
      ]
     },
     "execution_count": 4,
     "metadata": {},
     "output_type": "execute_result"
    }
   ],
   "source": [
    "df_train.head()"
   ]
  },
  {
   "cell_type": "code",
   "execution_count": 5,
   "metadata": {},
   "outputs": [
    {
     "data": {
      "text/html": [
       "<div>\n",
       "<style scoped>\n",
       "    .dataframe tbody tr th:only-of-type {\n",
       "        vertical-align: middle;\n",
       "    }\n",
       "\n",
       "    .dataframe tbody tr th {\n",
       "        vertical-align: top;\n",
       "    }\n",
       "\n",
       "    .dataframe thead th {\n",
       "        text-align: right;\n",
       "    }\n",
       "</style>\n",
       "<table border=\"1\" class=\"dataframe\">\n",
       "  <thead>\n",
       "    <tr style=\"text-align: right;\">\n",
       "      <th></th>\n",
       "      <th>count</th>\n",
       "      <th>unique</th>\n",
       "      <th>top</th>\n",
       "      <th>freq</th>\n",
       "      <th>mean</th>\n",
       "      <th>std</th>\n",
       "      <th>min</th>\n",
       "      <th>25%</th>\n",
       "      <th>50%</th>\n",
       "      <th>75%</th>\n",
       "      <th>max</th>\n",
       "    </tr>\n",
       "  </thead>\n",
       "  <tbody>\n",
       "    <tr>\n",
       "      <th>id</th>\n",
       "      <td>7613.0</td>\n",
       "      <td>NaN</td>\n",
       "      <td>NaN</td>\n",
       "      <td>NaN</td>\n",
       "      <td>5441.934848</td>\n",
       "      <td>3137.11609</td>\n",
       "      <td>1.0</td>\n",
       "      <td>2734.0</td>\n",
       "      <td>5408.0</td>\n",
       "      <td>8146.0</td>\n",
       "      <td>10873.0</td>\n",
       "    </tr>\n",
       "    <tr>\n",
       "      <th>keyword</th>\n",
       "      <td>7552</td>\n",
       "      <td>221</td>\n",
       "      <td>fatalities</td>\n",
       "      <td>45</td>\n",
       "      <td>NaN</td>\n",
       "      <td>NaN</td>\n",
       "      <td>NaN</td>\n",
       "      <td>NaN</td>\n",
       "      <td>NaN</td>\n",
       "      <td>NaN</td>\n",
       "      <td>NaN</td>\n",
       "    </tr>\n",
       "    <tr>\n",
       "      <th>location</th>\n",
       "      <td>5080</td>\n",
       "      <td>3341</td>\n",
       "      <td>USA</td>\n",
       "      <td>104</td>\n",
       "      <td>NaN</td>\n",
       "      <td>NaN</td>\n",
       "      <td>NaN</td>\n",
       "      <td>NaN</td>\n",
       "      <td>NaN</td>\n",
       "      <td>NaN</td>\n",
       "      <td>NaN</td>\n",
       "    </tr>\n",
       "    <tr>\n",
       "      <th>text</th>\n",
       "      <td>7613</td>\n",
       "      <td>7503</td>\n",
       "      <td>11-Year-Old Boy Charged With Manslaughter of T...</td>\n",
       "      <td>10</td>\n",
       "      <td>NaN</td>\n",
       "      <td>NaN</td>\n",
       "      <td>NaN</td>\n",
       "      <td>NaN</td>\n",
       "      <td>NaN</td>\n",
       "      <td>NaN</td>\n",
       "      <td>NaN</td>\n",
       "    </tr>\n",
       "    <tr>\n",
       "      <th>target</th>\n",
       "      <td>7613.0</td>\n",
       "      <td>NaN</td>\n",
       "      <td>NaN</td>\n",
       "      <td>NaN</td>\n",
       "      <td>0.42966</td>\n",
       "      <td>0.49506</td>\n",
       "      <td>0.0</td>\n",
       "      <td>0.0</td>\n",
       "      <td>0.0</td>\n",
       "      <td>1.0</td>\n",
       "      <td>1.0</td>\n",
       "    </tr>\n",
       "  </tbody>\n",
       "</table>\n",
       "</div>"
      ],
      "text/plain": [
       "           count unique                                                top  \\\n",
       "id        7613.0    NaN                                                NaN   \n",
       "keyword     7552    221                                         fatalities   \n",
       "location    5080   3341                                                USA   \n",
       "text        7613   7503  11-Year-Old Boy Charged With Manslaughter of T...   \n",
       "target    7613.0    NaN                                                NaN   \n",
       "\n",
       "         freq         mean         std  min     25%     50%     75%      max  \n",
       "id        NaN  5441.934848  3137.11609  1.0  2734.0  5408.0  8146.0  10873.0  \n",
       "keyword    45          NaN         NaN  NaN     NaN     NaN     NaN      NaN  \n",
       "location  104          NaN         NaN  NaN     NaN     NaN     NaN      NaN  \n",
       "text       10          NaN         NaN  NaN     NaN     NaN     NaN      NaN  \n",
       "target    NaN      0.42966     0.49506  0.0     0.0     0.0     1.0      1.0  "
      ]
     },
     "execution_count": 5,
     "metadata": {},
     "output_type": "execute_result"
    }
   ],
   "source": [
    "df_train.describe(include=\"all\").T"
   ]
  },
  {
   "cell_type": "code",
   "execution_count": 6,
   "metadata": {},
   "outputs": [
    {
     "name": "stdout",
     "output_type": "stream",
     "text": [
      "<class 'pandas.core.frame.DataFrame'>\n",
      "RangeIndex: 7613 entries, 0 to 7612\n",
      "Data columns (total 5 columns):\n",
      " #   Column    Non-Null Count  Dtype \n",
      "---  ------    --------------  ----- \n",
      " 0   id        7613 non-null   int64 \n",
      " 1   keyword   7552 non-null   object\n",
      " 2   location  5080 non-null   object\n",
      " 3   text      7613 non-null   object\n",
      " 4   target    7613 non-null   int64 \n",
      "dtypes: int64(2), object(3)\n",
      "memory usage: 297.5+ KB\n"
     ]
    }
   ],
   "source": [
    "df_train.info()"
   ]
  },
  {
   "cell_type": "code",
   "execution_count": 7,
   "metadata": {},
   "outputs": [
    {
     "data": {
      "image/png": "[encoded data removed]",
      "text/plain": [
       "<Figure size 720x720 with 1 Axes>"
      ]
     },
     "metadata": {
      "needs_background": "light"
     },
     "output_type": "display_data"
    }
   ],
   "source": [
    "#visualize the missing values\n",
    "ax, fig = plt.subplots(figsize=(10,10))\n",
    "\n",
    "ax = sns.heatmap(df_train.isna(),yticklabels=False,cbar=False,cmap='BuGn_r', alpha = 0.9)\n",
    "\n",
    "plt.xticks(rotation = 45, ha=\"right\")\n",
    "\n",
    "plt.tight_layout()\n",
    "\n",
    "#note that low number of missings won't show in the chart"
   ]
  },
  {
   "cell_type": "markdown",
   "metadata": {},
   "source": [
    "## ID"
   ]
  },
  {
   "cell_type": "code",
   "execution_count": 8,
   "metadata": {},
   "outputs": [
    {
     "data": {
      "text/plain": [
       "0           1\n",
       "1           4\n",
       "2           5\n",
       "3           6\n",
       "4           7\n",
       "        ...  \n",
       "7608    10869\n",
       "7609    10870\n",
       "7610    10871\n",
       "7611    10872\n",
       "7612    10873\n",
       "Name: id, Length: 7613, dtype: int64"
      ]
     },
     "execution_count": 8,
     "metadata": {},
     "output_type": "execute_result"
    }
   ],
   "source": [
    "df_train[\"id\"]\n",
    "#ID is not apporting any info we will drop it"
   ]
  },
  {
   "cell_type": "markdown",
   "metadata": {},
   "source": [
    "## Keyword"
   ]
  },
  {
   "cell_type": "code",
   "execution_count": 9,
   "metadata": {},
   "outputs": [
    {
     "data": {
      "text/plain": [
       "count           7552\n",
       "unique           221\n",
       "top       fatalities\n",
       "freq              45\n",
       "Name: keyword, dtype: object"
      ]
     },
     "execution_count": 9,
     "metadata": {},
     "output_type": "execute_result"
    }
   ],
   "source": [
    "df_train[\"keyword\"].describe()\n",
    "#fatalities is the most used keywords - we have 221 different keywords"
   ]
  },
  {
   "cell_type": "code",
   "execution_count": 10,
   "metadata": {},
   "outputs": [
    {
     "data": {
      "text/plain": [
       "False    0.991987\n",
       "True     0.008013\n",
       "Name: keyword, dtype: float64"
      ]
     },
     "execution_count": 10,
     "metadata": {},
     "output_type": "execute_result"
    }
   ],
   "source": [
    "#has some nan values\n",
    "df_train[\"keyword\"].isna().value_counts(normalize=True)\n",
    "# 0.8% (61) are missing - we will proceed imputing these values using KeyBERT"
   ]
  },
  {
   "cell_type": "markdown",
   "metadata": {},
   "source": [
    "To avoid data leakage we need to train test split the data first and then create the list of unique keywords from the train set."
   ]
  },
  {
   "cell_type": "markdown",
   "metadata": {},
   "source": [
    "Let's go forward keeping analyzing the data and then we will build a function to tranform the Keyword column. Let's have a look at the kind of keywords we are dealing with:"
   ]
  },
  {
   "cell_type": "code",
   "execution_count": 11,
   "metadata": {},
   "outputs": [
    {
     "data": {
      "text/plain": [
       "['ablaze',\n",
       " 'accident',\n",
       " 'aftershock',\n",
       " 'airplane%20accident',\n",
       " 'ambulance',\n",
       " 'annihilated',\n",
       " 'annihilation',\n",
       " 'apocalypse',\n",
       " 'armageddon',\n",
       " 'army',\n",
       " 'arson',\n",
       " 'arsonist',\n",
       " 'attack',\n",
       " 'attacked',\n",
       " 'avalanche',\n",
       " 'battle',\n",
       " 'bioterror',\n",
       " 'bioterrorism',\n",
       " 'blaze',\n",
       " 'blazing',\n",
       " 'bleeding',\n",
       " 'blew%20up',\n",
       " 'blight',\n",
       " 'blizzard',\n",
       " 'blood',\n",
       " 'bloody',\n",
       " 'blown%20up',\n",
       " 'body%20bag',\n",
       " 'body%20bagging',\n",
       " 'body%20bags']"
      ]
     },
     "execution_count": 11,
     "metadata": {},
     "output_type": "execute_result"
    }
   ],
   "source": [
    "df_train[~df_train[\"keyword\"].isna()][\"keyword\"].unique().tolist()[:30] #remove this slicing to analyze all the keywords"
   ]
  },
  {
   "cell_type": "markdown",
   "metadata": {},
   "source": [
    "We can see that most of the spaces are wrongly encoded with %20. Also, there are words that are similar, we will take care of them when dealing with the text feature."
   ]
  },
  {
   "cell_type": "markdown",
   "metadata": {},
   "source": [
    "## Text"
   ]
  },
  {
   "cell_type": "code",
   "execution_count": 12,
   "metadata": {},
   "outputs": [
    {
     "data": {
      "text/plain": [
       "['Our Deeds are the Reason of this #earthquake May ALLAH Forgive us all',\n",
       " 'Forest fire near La Ronge Sask. Canada',\n",
       " \"All residents asked to 'shelter in place' are being notified by officers. No other evacuation or shelter in place orders are expected\",\n",
       " '13,000 people receive #wildfires evacuation orders in California ',\n",
       " 'Just got sent this photo from Ruby #Alaska as smoke from #wildfires pours into a school ',\n",
       " '#RockyFire Update => California Hwy. 20 closed in both directions due to Lake County fire - #CAfire #wildfires',\n",
       " '#flood #disaster Heavy rain causes flash flooding of streets in Manitou, Colorado Springs areas',\n",
       " \"I'm on top of the hill and I can see a fire in the woods...\",\n",
       " \"There's an emergency evacuation happening now in the building across the street\",\n",
       " \"I'm afraid that the tornado is coming to our area...\",\n",
       " 'Three people died from the heat wave so far',\n",
       " 'Haha South Tampa is getting flooded hah- WAIT A SECOND I LIVE IN SOUTH TAMPA WHAT AM I GONNA DO WHAT AM I GONNA DO FVCK #flooding',\n",
       " \"#raining #flooding #Florida #TampaBay #Tampa 18 or 19 days. I've lost count \",\n",
       " '#Flood in Bago Myanmar #We arrived Bago',\n",
       " 'Damage to school bus on 80 in multi car crash #BREAKING ',\n",
       " \"What's up man?\",\n",
       " 'I love fruits',\n",
       " 'Summer is lovely',\n",
       " 'My car is so fast',\n",
       " 'What a goooooooaaaaaal!!!!!!',\n",
       " 'this is ridiculous....',\n",
       " 'London is cool ;)',\n",
       " 'Love skiing',\n",
       " 'What a wonderful day!',\n",
       " 'LOOOOOOL',\n",
       " \"No way...I can't eat that shit\",\n",
       " 'Was in NYC last week!',\n",
       " 'Love my girlfriend',\n",
       " 'Cooool :)',\n",
       " 'Do you like pasta?']"
      ]
     },
     "execution_count": 12,
     "metadata": {},
     "output_type": "execute_result"
    }
   ],
   "source": [
    "df_train[\"text\"].values.tolist()[:30] #remove this slicing to analyze all the keywords"
   ]
  },
  {
   "cell_type": "markdown",
   "metadata": {},
   "source": [
    "As we can see here we have different porblems:\n",
    "1. There are a multitude of links. We don't need them but we will create a new feature \"has_link\"\n",
    "2. Some words have been encoded incorrectly eg. \\x89Ûªt\n",
    "3. Tabs and escape need to be removed\n",
    "4. People tags are not useful. We will take them out and add a new feature \"has_tag\"\n",
    "5. Ashtags will be removed. We will create a new feature \"ashtags\" that we will then merge with the keyword feature creating \"keyword+\". Also we will normalize the keywords using stemming\n",
    "6. We will create in the end a new feature based on the sentiment score using the compound value\n",
    "7. After we will normalize the text applying punctuation and stopwrods removal and stemming\n"
   ]
  },
  {
   "cell_type": "markdown",
   "metadata": {},
   "source": [
    "## Location"
   ]
  },
  {
   "cell_type": "code",
   "execution_count": 13,
   "metadata": {},
   "outputs": [
    {
     "data": {
      "text/plain": [
       "0       NaN\n",
       "1       NaN\n",
       "2       NaN\n",
       "3       NaN\n",
       "4       NaN\n",
       "       ... \n",
       "7608    NaN\n",
       "7609    NaN\n",
       "7610    NaN\n",
       "7611    NaN\n",
       "7612    NaN\n",
       "Name: location, Length: 7613, dtype: object"
      ]
     },
     "execution_count": 13,
     "metadata": {},
     "output_type": "execute_result"
    }
   ],
   "source": [
    "df_train[\"location\"]\n",
    "#lots of values missing"
   ]
  },
  {
   "cell_type": "code",
   "execution_count": 14,
   "metadata": {},
   "outputs": [
    {
     "data": {
      "text/plain": [
       "False    66.727965\n",
       "True     33.272035\n",
       "Name: location, dtype: float64"
      ]
     },
     "execution_count": 14,
     "metadata": {},
     "output_type": "execute_result"
    }
   ],
   "source": [
    "df_train[\"location\"].isna().value_counts(normalize=True)*100\n",
    "#33%  missing locations"
   ]
  },
  {
   "cell_type": "code",
   "execution_count": 15,
   "metadata": {},
   "outputs": [
    {
     "data": {
      "text/plain": [
       "['Birmingham',\n",
       " 'Est. September 2012 - Bristol',\n",
       " 'AFRICA',\n",
       " 'Philadelphia, PA',\n",
       " 'London, UK',\n",
       " 'Pretoria',\n",
       " 'World Wide!!',\n",
       " 'Paranaque City',\n",
       " 'Live On Webcam',\n",
       " 'milky way',\n",
       " 'GREENSBORO,NORTH CAROLINA',\n",
       " 'Live On Webcam',\n",
       " 'England.',\n",
       " 'Sheffield Township, Ohio',\n",
       " 'India',\n",
       " 'Barbados',\n",
       " 'Anaheim',\n",
       " 'Abuja',\n",
       " 'USA',\n",
       " 'South Africa',\n",
       " 'Sao Paulo, Brazil',\n",
       " 'hollywoodland ',\n",
       " 'Edmonton, Alberta - Treaty 6',\n",
       " 'Inang Pamantasan',\n",
       " 'Twitter Lockout in progress',\n",
       " 'Concord, CA',\n",
       " 'Calgary, AB',\n",
       " 'Birmingham',\n",
       " 'San Francisco',\n",
       " 'CLVLND']"
      ]
     },
     "execution_count": 15,
     "metadata": {},
     "output_type": "execute_result"
    }
   ],
   "source": [
    "df_train[~df_train[\"location\"].isna()][\"location\"].values.tolist()[:30] #remove this slicing to analyze all the keywords"
   ]
  },
  {
   "cell_type": "markdown",
   "metadata": {},
   "source": [
    "More than 15% of values are missing and not very useful information from this feature - we will drop it and create a new feature \"has_location\""
   ]
  },
  {
   "cell_type": "markdown",
   "metadata": {},
   "source": [
    "## Target"
   ]
  },
  {
   "cell_type": "code",
   "execution_count": 16,
   "metadata": {},
   "outputs": [
    {
     "data": {
      "text/plain": [
       "count    7613.00000\n",
       "mean        0.42966\n",
       "std         0.49506\n",
       "min         0.00000\n",
       "25%         0.00000\n",
       "50%         0.00000\n",
       "75%         1.00000\n",
       "max         1.00000\n",
       "Name: target, dtype: float64"
      ]
     },
     "execution_count": 16,
     "metadata": {},
     "output_type": "execute_result"
    }
   ],
   "source": [
    "df_train[\"target\"].describe()"
   ]
  },
  {
   "cell_type": "code",
   "execution_count": 17,
   "metadata": {},
   "outputs": [
    {
     "data": {
      "text/plain": [
       "0    57.034021\n",
       "1    42.965979\n",
       "Name: target, dtype: float64"
      ]
     },
     "execution_count": 17,
     "metadata": {},
     "output_type": "execute_result"
    }
   ],
   "source": [
    "df_train[\"target\"].value_counts(normalize=True)*100\n",
    "#42% are disaster"
   ]
  },
  {
   "cell_type": "markdown",
   "metadata": {},
   "source": [
    "# Feature Transformation and Engineering"
   ]
  },
  {
   "cell_type": "code",
   "execution_count": 18,
   "metadata": {},
   "outputs": [],
   "source": [
    "#splitting data\n",
    "y = df_train[\"target\"]\n",
    "# X.drop(\"target\", axis=1, inplace=True)\n",
    "X_train, X_valid, y_train, y_valid = train_test_split(df_train.drop(\"target\", axis=1), y, test_size=0.25, random_state=42)"
   ]
  },
  {
   "cell_type": "code",
   "execution_count": 19,
   "metadata": {},
   "outputs": [],
   "source": [
    "def keyword_extractor(text):\n",
    "    \"\"\"\n",
    "    This function extracts keywords from text using KeyBERT\n",
    "    \n",
    "    It ueses a list keywords candidates where to chose from.\n",
    "    Maximal Marginal Relevance (MMR) set to True\n",
    "    Diversity is set to 0.2\n",
    "    Top n keywords/keyphrases is set to 6\n",
    "    \n",
    "    Args:\n",
    "        text (str): text to porcess\n",
    "\n",
    "    Returns:\n",
    "        list: list of keywords\n",
    "    \"\"\"\n",
    "    \n",
    "\n",
    "    keywords = kw_model.extract_keywords(\n",
    "        text, keyphrase_ngram_range=(1,1),\n",
    "        stop_words=\"english\",\n",
    "        candidates=kwd_list,\n",
    "        use_mmr=True,\n",
    "        diversity=0.2,\n",
    "        top_n=1\n",
    "        )\n",
    "    \n",
    "    return \"\".join([str(i[0]) for i in keywords])"
   ]
  },
  {
   "cell_type": "code",
   "execution_count": 20,
   "metadata": {},
   "outputs": [],
   "source": [
    "def location_transformer(df):\n",
    "    \"\"\"\n",
    "    Creating new feature \"has_location\"\n",
    "    \"\"\"\n",
    "    \n",
    "    df[\"has_location\"] = np.where(df[\"location\"].isna(), 0,1)\n",
    "    "
   ]
  },
  {
   "cell_type": "code",
   "execution_count": 21,
   "metadata": {},
   "outputs": [],
   "source": [
    "    #to avoid leaking we'll use X_train to make the unique keywords list\n",
    "    global kwd_list\n",
    "    kwd_list = X_train[\"keyword\"].unique().tolist() \n",
    "    kwd_list.remove(np.nan) #removing nan value from the list\n",
    "    \n",
    "    #removing %20 from the list and substituting with a space\n",
    "    pattern=\"%20\"\n",
    "    regex = re.compile(pattern)\n",
    "    kwd_list = [regex.sub(\" \", i) if \"%20\" in i else i for i in kwd_list]"
   ]
  },
  {
   "cell_type": "code",
   "execution_count": 22,
   "metadata": {},
   "outputs": [],
   "source": [
    "def kwd_transformer(df):\n",
    "    \"\"\"\n",
    "    1. Removing %20 from keywords\n",
    "    2. Imputing missing keywords with keyBERT\n",
    "    3. Changing wild fire to wildfires\n",
    "    \"\"\"\n",
    "    \n",
    "    #removing space encoding\n",
    "    df[\"keyword\"] = df[\"keyword\"].str.replace(\"%20\", \" \")\n",
    "    print(\"removed space encoding\")\n",
    "    \n",
    "    #imputing missing keywords\n",
    "    \n",
    "    global kw_model\n",
    "    kw_model = KeyBERT()\n",
    "    \n",
    "    df[\"keyword\"] = df.apply(lambda x: keyword_extractor(x[\"text\"]) if x[\"keyword\"] is np.nan else x[\"keyword\"], axis=1)\n",
    "    print(\"Imputed missing Keywords\")\n",
    "    \n",
    "    #making wildfires an unique word\n",
    "    df[\"keyword\"] = df[\"keyword\"].apply(lambda x: \"wildfires\" if x==\"wild fires\" else x)\n",
    "    print(\"made 'wild fires'=='wildfires' \")\n",
    "    \n"
   ]
  },
  {
   "cell_type": "code",
   "execution_count": 23,
   "metadata": {},
   "outputs": [],
   "source": [
    "def polarity(row):\n",
    "    \"\"\"\n",
    "    Creating Polarity score feature\n",
    "    \"\"\"\n",
    "    \n",
    "    pol = analyzer.polarity_scores(row)\n",
    "    compound = pol[\"compound\"]\n",
    "    \n",
    "    return pd.Series([compound])"
   ]
  },
  {
   "cell_type": "code",
   "execution_count": 24,
   "metadata": {},
   "outputs": [],
   "source": [
    "def text_transformer(df):\n",
    "    \"\"\"\n",
    "    1. Removing links form text and creating a feature \"has_link\"\n",
    "    2. Creating a text length feature and binning it in 2 chunks - \n",
    "        this is because short text tweets are more prone to have target 1\n",
    "    3. Creating a \"has_hastag\" feature. We will then remove \"#\" from text and merge the ashtags\n",
    "        in a unique feature with keywords and stem it\n",
    "    4. Removing all the tags from the text and creating a feature \"has_tag\"\n",
    "    5. Removing all tabs characters from the thext\n",
    "    6. Creating a compound sentiment feature\n",
    "    \"\"\"\n",
    "    \n",
    "    # 1------LINKS\n",
    "    #creating new feature has_link\n",
    "    #creating the regex link pattern\n",
    "    link_pattern = r\"https?:\\/\\/(www\\.)?[-a-zA-Z0-9@:%._\\+~#=]{1,256}\\.[a-zA-Z0-9()]{1,6}\\b([-a-zA-Z0-9()@:%_\\+.~#?&\\/\\/=]*)\"\n",
    "    link = re.compile(link_pattern)\n",
    "    \n",
    "    #creating feature\n",
    "    df[\"has_link\"] = df[\"text\"].str.contains(link, regex=True).astype(int)\n",
    "    \n",
    "    #removing links from the text\n",
    "    df[\"text\"] = df[\"text\"].str.replace(link,\"\", regex=True)\n",
    "    \n",
    "    print(\"links done\")\n",
    "    \n",
    "    # 2--------LENGHT\n",
    "    #creating new feature text_len\n",
    "    df[\"text_len\"] = df[\"text\"].apply(lambda x: len(x))\n",
    "    \n",
    "    #creating 5 bins for the lenght\n",
    "    df[\"text_len_bins\"] = pd.cut(df['text_len'].astype(int), 2) #140chr / 2\n",
    "    #encoding the bins\n",
    "    label = LabelEncoder()\n",
    "    df[\"text_len_bins\"] = label.fit_transform(df[\"text_len_bins\"])\n",
    "    \n",
    "    print(\"len done\")\n",
    "    \n",
    "    # 3-------ASHTAGS\n",
    "    #creating ashtag has ashtag feature and ashtags feature\n",
    "    #ashtags pattern\n",
    "    ashtag_pattern = r\"#(\\w+)\"\n",
    "    ashtag = re.compile(ashtag_pattern)\n",
    "    \n",
    "    #create feature if it has hashtags\n",
    "    df[\"has_ashtags\"] = df[\"text\"].str.contains(ashtag, regex=True).astype(int)\n",
    "    \n",
    "    #create ashtags feature\n",
    "    df[\"ashtags\"] = df[\"text\"].apply(lambda x: re.findall(ashtag, x.lower()))\n",
    "    \n",
    "    #merging keywords and ashtags\n",
    "    df[\"keyword+\"] = df.apply(lambda x: [x[\"keyword\"]]+x[\"ashtags\"] if x[\"keyword\"] not in x[\"ashtags\"] else x[\"ashtags\"],axis=1) #removing duplicates and merging columns\n",
    "    \n",
    "    df[\"keyword+\"] = df[\"keyword+\"].apply(lambda x: \" \".join(x))\n",
    "    \n",
    "    #stemming keywords\n",
    "    global stemmer\n",
    "    stemmer = PorterStemmer()\n",
    "    df[\"keyword+\"] = df[\"keyword\"].apply(lambda x : stemmer.stem(x))\n",
    "    \n",
    "    #replace ashtag with word without #\n",
    "    df[\"text\"] = df[\"text\"].str.replace(\"#\",\"\", regex=False)\n",
    "    \n",
    "    print(\"ashtags done\")\n",
    "    \n",
    "    # 4-------TAGS\n",
    "    #creating has_tag feature\n",
    "    \n",
    "    #tag pattern\n",
    "    tag_pattern = r\"@(\\w+)\"\n",
    "    tag = re.compile(tag_pattern)\n",
    "    \n",
    "    #add has tag\n",
    "    df[\"has_tag\"] = df[\"text\"].str.contains(tag, regex=True).astype(int)\n",
    "    \n",
    "    #remove all @person from the text feature\n",
    "    df[\"text\"] = df[\"text\"].str.replace(tag,\"\", regex=True)\n",
    "    \n",
    "    print(\"tags done\")\n",
    "    \n",
    "    # 5------\\n\n",
    "    #replacing \\n\n",
    "    df[\"text\"] = df[\"text\"].str.replace(\"\\n\",\" \", regex=False)\n",
    "    \n",
    "    # 6-------SENTIMENT SCORE\n",
    "    #add sentiment compound feature\n",
    "    global analyzer\n",
    "    analyzer = SentimentIntensityAnalyzer()\n",
    "    \n",
    "    df[\"compound\"] = df.apply(lambda row: polarity(row[\"text\"]), axis=1)\n",
    "    \n",
    "    print(\"sentiment done\")\n",
    "    "
   ]
  },
  {
   "cell_type": "code",
   "execution_count": 25,
   "metadata": {},
   "outputs": [
    {
     "name": "stdout",
     "output_type": "stream",
     "text": [
      "removed space encoding\n",
      "Imputed missing Keywords\n",
      "made 'wild fires'=='wildfires' \n",
      "links done\n",
      "len done\n",
      "ashtags done\n",
      "tags done\n",
      "sentiment done\n"
     ]
    }
   ],
   "source": [
    "kwd_transformer(X_train)\n",
    "text_transformer(X_train)\n",
    "location_transformer(X_train)"
   ]
  },
  {
   "cell_type": "code",
   "execution_count": 26,
   "metadata": {},
   "outputs": [
    {
     "data": {
      "text/html": [
       "<div>\n",
       "<style scoped>\n",
       "    .dataframe tbody tr th:only-of-type {\n",
       "        vertical-align: middle;\n",
       "    }\n",
       "\n",
       "    .dataframe tbody tr th {\n",
       "        vertical-align: top;\n",
       "    }\n",
       "\n",
       "    .dataframe thead th {\n",
       "        text-align: right;\n",
       "    }\n",
       "</style>\n",
       "<table border=\"1\" class=\"dataframe\">\n",
       "  <thead>\n",
       "    <tr style=\"text-align: right;\">\n",
       "      <th></th>\n",
       "      <th>id</th>\n",
       "      <th>keyword</th>\n",
       "      <th>location</th>\n",
       "      <th>text</th>\n",
       "      <th>has_link</th>\n",
       "      <th>text_len</th>\n",
       "      <th>text_len_bins</th>\n",
       "      <th>has_ashtags</th>\n",
       "      <th>ashtags</th>\n",
       "      <th>keyword+</th>\n",
       "      <th>has_tag</th>\n",
       "      <th>compound</th>\n",
       "      <th>has_location</th>\n",
       "      <th>target</th>\n",
       "    </tr>\n",
       "  </thead>\n",
       "  <tbody>\n",
       "    <tr>\n",
       "      <th>5151</th>\n",
       "      <td>7345</td>\n",
       "      <td>obliterate</td>\n",
       "      <td>Dover, DE</td>\n",
       "      <td>This makes sense. Paper beats rock paper com...</td>\n",
       "      <td>0</td>\n",
       "      <td>136</td>\n",
       "      <td>1</td>\n",
       "      <td>0</td>\n",
       "      <td>[]</td>\n",
       "      <td>obliter</td>\n",
       "      <td>1</td>\n",
       "      <td>-0.2960</td>\n",
       "      <td>1</td>\n",
       "      <td>0</td>\n",
       "    </tr>\n",
       "    <tr>\n",
       "      <th>6351</th>\n",
       "      <td>9081</td>\n",
       "      <td>structural failure</td>\n",
       "      <td>ÌÏT: 27.9136024,-81.6078532</td>\n",
       "      <td>': The causes of federal failure are deeply st...</td>\n",
       "      <td>1</td>\n",
       "      <td>106</td>\n",
       "      <td>1</td>\n",
       "      <td>0</td>\n",
       "      <td>[]</td>\n",
       "      <td>structural failur</td>\n",
       "      <td>1</td>\n",
       "      <td>-0.7311</td>\n",
       "      <td>1</td>\n",
       "      <td>0</td>\n",
       "    </tr>\n",
       "    <tr>\n",
       "      <th>3443</th>\n",
       "      <td>4920</td>\n",
       "      <td>exploded</td>\n",
       "      <td>Elmwood Park, NJ</td>\n",
       "      <td>Well as I was chaning an iPad screen it fuckin...</td>\n",
       "      <td>0</td>\n",
       "      <td>137</td>\n",
       "      <td>1</td>\n",
       "      <td>0</td>\n",
       "      <td>[]</td>\n",
       "      <td>explod</td>\n",
       "      <td>0</td>\n",
       "      <td>0.5574</td>\n",
       "      <td>1</td>\n",
       "      <td>0</td>\n",
       "    </tr>\n",
       "    <tr>\n",
       "      <th>7164</th>\n",
       "      <td>10265</td>\n",
       "      <td>war zone</td>\n",
       "      <td>Host of #MindMoversPodcast</td>\n",
       "      <td>the war on drugs has turned the U.S. into a WA...</td>\n",
       "      <td>0</td>\n",
       "      <td>53</td>\n",
       "      <td>0</td>\n",
       "      <td>0</td>\n",
       "      <td>[]</td>\n",
       "      <td>war zon</td>\n",
       "      <td>0</td>\n",
       "      <td>-0.8602</td>\n",
       "      <td>1</td>\n",
       "      <td>1</td>\n",
       "    </tr>\n",
       "    <tr>\n",
       "      <th>7037</th>\n",
       "      <td>10083</td>\n",
       "      <td>typhoon</td>\n",
       "      <td>NaN</td>\n",
       "      <td>Obama Declares Disaster for Typhoon-Devastated...</td>\n",
       "      <td>0</td>\n",
       "      <td>53</td>\n",
       "      <td>0</td>\n",
       "      <td>0</td>\n",
       "      <td>[]</td>\n",
       "      <td>typhoon</td>\n",
       "      <td>0</td>\n",
       "      <td>-0.6249</td>\n",
       "      <td>0</td>\n",
       "      <td>1</td>\n",
       "    </tr>\n",
       "  </tbody>\n",
       "</table>\n",
       "</div>"
      ],
      "text/plain": [
       "         id             keyword                     location  \\\n",
       "5151   7345          obliterate                    Dover, DE   \n",
       "6351   9081  structural failure  ÌÏT: 27.9136024,-81.6078532   \n",
       "3443   4920            exploded             Elmwood Park, NJ   \n",
       "7164  10265            war zone   Host of #MindMoversPodcast   \n",
       "7037  10083             typhoon                          NaN   \n",
       "\n",
       "                                                   text  has_link  text_len  \\\n",
       "5151    This makes sense. Paper beats rock paper com...         0       136   \n",
       "6351  ': The causes of federal failure are deeply st...         1       106   \n",
       "3443  Well as I was chaning an iPad screen it fuckin...         0       137   \n",
       "7164  the war on drugs has turned the U.S. into a WA...         0        53   \n",
       "7037  Obama Declares Disaster for Typhoon-Devastated...         0        53   \n",
       "\n",
       "      text_len_bins  has_ashtags ashtags           keyword+  has_tag  \\\n",
       "5151              1            0      []            obliter        1   \n",
       "6351              1            0      []  structural failur        1   \n",
       "3443              1            0      []             explod        0   \n",
       "7164              0            0      []            war zon        0   \n",
       "7037              0            0      []            typhoon        0   \n",
       "\n",
       "      compound  has_location  target  \n",
       "5151   -0.2960             1       0  \n",
       "6351   -0.7311             1       0  \n",
       "3443    0.5574             1       0  \n",
       "7164   -0.8602             1       1  \n",
       "7037   -0.6249             0       1  "
      ]
     },
     "execution_count": 26,
     "metadata": {},
     "output_type": "execute_result"
    }
   ],
   "source": [
    "df=pd.concat([X_train,y_train], axis=1)\n",
    "df.head()"
   ]
  },
  {
   "cell_type": "code",
   "execution_count": 27,
   "metadata": {},
   "outputs": [
    {
     "data": {
      "text/plain": [
       "<AxesSubplot:xlabel='text_len', ylabel='Count'>"
      ]
     },
     "execution_count": 27,
     "metadata": {},
     "output_type": "execute_result"
    },
    {
     "data": {
      "image/png": "[encoded data removed]",
      "text/plain": [
       "<Figure size 432x288 with 1 Axes>"
      ]
     },
     "metadata": {
      "needs_background": "light"
     },
     "output_type": "display_data"
    }
   ],
   "source": [
    "sns.histplot(data=df, x=\"text_len\", hue=\"target\", bins=14) \n",
    "#we can see a distinction between text shorter than 60 chars being less frequent"
   ]
  },
  {
   "cell_type": "code",
   "execution_count": 28,
   "metadata": {},
   "outputs": [
    {
     "data": {
      "text/plain": [
       "<AxesSubplot:xlabel='target', ylabel='text_len'>"
      ]
     },
     "execution_count": 28,
     "metadata": {},
     "output_type": "execute_result"
    },
    {
     "data": {
      "image/png": "[encoded data removed]",
      "text/plain": [
       "<Figure size 432x288 with 1 Axes>"
      ]
     },
     "metadata": {
      "needs_background": "light"
     },
     "output_type": "display_data"
    }
   ],
   "source": [
    "sns.boxplot(data=df, x=\"target\", y=\"text_len\") # 1 are slightly longer"
   ]
  },
  {
   "cell_type": "code",
   "execution_count": 29,
   "metadata": {},
   "outputs": [
    {
     "data": {
      "text/plain": [
       "<AxesSubplot:xlabel='text_len_bins', ylabel='text_len'>"
      ]
     },
     "execution_count": 29,
     "metadata": {},
     "output_type": "execute_result"
    },
    {
     "data": {
      "image/png": "[encoded data removed]",
      "text/plain": [
       "<Figure size 432x288 with 1 Axes>"
      ]
     },
     "metadata": {
      "needs_background": "light"
     },
     "output_type": "display_data"
    }
   ],
   "source": [
    "sns.barplot(data=df, x=\"text_len_bins\",y=\"text_len\",hue=\"target\", orient=\"v\") \n",
    "#distaster tweets are longer for bin one we created"
   ]
  },
  {
   "cell_type": "code",
   "execution_count": 30,
   "metadata": {},
   "outputs": [
    {
     "data": {
      "text/plain": [
       "<AxesSubplot:xlabel='target', ylabel='compound'>"
      ]
     },
     "execution_count": 30,
     "metadata": {},
     "output_type": "execute_result"
    },
    {
     "data": {
      "image/png": "[encoded data removed]",
      "text/plain": [
       "<Figure size 432x288 with 1 Axes>"
      ]
     },
     "metadata": {
      "needs_background": "light"
     },
     "output_type": "display_data"
    }
   ],
   "source": [
    "sns.boxplot(data=df, x=\"target\", y=\"compound\") #disaster tweets are clearly more proce to ha a negative compound sentiment"
   ]
  },
  {
   "cell_type": "code",
   "execution_count": 31,
   "metadata": {},
   "outputs": [],
   "source": [
    "#visualizing keywords with most disaster labels\n",
    "order = pd.crosstab(df[\"keyword+\"], df.target).sort_values(1, ascending=False).index"
   ]
  },
  {
   "cell_type": "code",
   "execution_count": 32,
   "metadata": {},
   "outputs": [
    {
     "data": {
      "image/png": "[encoded data removed]",
      "text/plain": [
       "<Figure size 720x2520 with 1 Axes>"
      ]
     },
     "metadata": {
      "needs_background": "light"
     },
     "output_type": "display_data"
    }
   ],
   "source": [
    "fig, ax = plt.subplots(figsize=(10,35))\n",
    "ax = sns.countplot(data=df, y=\"keyword+\", hue=\"target\", orient=\"v\", order = order)\n",
    "\n",
    "ax.xaxis.tick_top()\n",
    "ax.xaxis.set_label_position('top')\n",
    "\n",
    "plt.legend(loc='upper right')\n",
    "plt.tight_layout()"
   ]
  },
  {
   "cell_type": "code",
   "execution_count": 33,
   "metadata": {},
   "outputs": [
    {
     "data": {
      "text/plain": [
       "<AxesSubplot:xlabel='has_ashtags', ylabel='count'>"
      ]
     },
     "execution_count": 33,
     "metadata": {},
     "output_type": "execute_result"
    },
    {
     "data": {
      "image/png": "[encoded data removed]",
      "text/plain": [
       "<Figure size 432x288 with 1 Axes>"
      ]
     },
     "metadata": {
      "needs_background": "light"
     },
     "output_type": "display_data"
    }
   ],
   "source": [
    "sns.countplot(data=df, x=\"has_ashtags\", hue=\"target\")\n",
    "# not having an hashtag could be a discriminant for a disaster tweet"
   ]
  },
  {
   "cell_type": "code",
   "execution_count": 34,
   "metadata": {},
   "outputs": [
    {
     "data": {
      "text/plain": [
       "<AxesSubplot:xlabel='has_tag', ylabel='count'>"
      ]
     },
     "execution_count": 34,
     "metadata": {},
     "output_type": "execute_result"
    },
    {
     "data": {
      "image/png": "[encoded data removed]",
      "text/plain": [
       "<Figure size 432x288 with 1 Axes>"
      ]
     },
     "metadata": {
      "needs_background": "light"
     },
     "output_type": "display_data"
    }
   ],
   "source": [
    "sns.countplot(data=df, x=\"has_tag\", hue=\"target\")\n",
    "# a tag could be a discriminant eve tough we must take into account that the disaster tweets are less than non disaster"
   ]
  },
  {
   "cell_type": "code",
   "execution_count": 35,
   "metadata": {},
   "outputs": [
    {
     "data": {
      "text/plain": [
       "<AxesSubplot:xlabel='has_location', ylabel='count'>"
      ]
     },
     "execution_count": 35,
     "metadata": {},
     "output_type": "execute_result"
    },
    {
     "data": {
      "image/png": "[encoded data removed]",
      "text/plain": [
       "<Figure size 432x288 with 1 Axes>"
      ]
     },
     "metadata": {
      "needs_background": "light"
     },
     "output_type": "display_data"
    }
   ],
   "source": [
    "sns.countplot(data=df, x=\"has_location\", hue=\"target\")\n",
    "# same as before"
   ]
  },
  {
   "cell_type": "code",
   "execution_count": 36,
   "metadata": {},
   "outputs": [
    {
     "data": {
      "text/plain": [
       "<AxesSubplot:xlabel='has_link', ylabel='count'>"
      ]
     },
     "execution_count": 36,
     "metadata": {},
     "output_type": "execute_result"
    },
    {
     "data": {
      "image/png": "[encoded data removed]",
      "text/plain": [
       "<Figure size 432x288 with 1 Axes>"
      ]
     },
     "metadata": {
      "needs_background": "light"
     },
     "output_type": "display_data"
    }
   ],
   "source": [
    "sns.countplot(data=df, x=\"has_link\", hue=\"target\")\n",
    "# here we can see how having a link could be indicative of a disaster"
   ]
  },
  {
   "cell_type": "code",
   "execution_count": 37,
   "metadata": {},
   "outputs": [
    {
     "name": "stdout",
     "output_type": "stream",
     "text": [
      "removed space encoding\n",
      "Imputed missing Keywords\n",
      "made 'wild fires'=='wildfires' \n",
      "links done\n",
      "len done\n",
      "ashtags done\n",
      "tags done\n",
      "sentiment done\n"
     ]
    }
   ],
   "source": [
    "kwd_transformer(X_valid)\n",
    "text_transformer(X_valid)\n",
    "location_transformer(X_valid)"
   ]
  },
  {
   "cell_type": "code",
   "execution_count": 38,
   "metadata": {},
   "outputs": [
    {
     "name": "stdout",
     "output_type": "stream",
     "text": [
      "removed space encoding\n",
      "Imputed missing Keywords\n",
      "made 'wild fires'=='wildfires' \n",
      "links done\n",
      "len done\n",
      "ashtags done\n",
      "tags done\n",
      "sentiment done\n"
     ]
    }
   ],
   "source": [
    "kwd_transformer(X_test)\n",
    "text_transformer(X_test)\n",
    "location_transformer(X_test)"
   ]
  },
  {
   "cell_type": "code",
   "execution_count": 39,
   "metadata": {},
   "outputs": [
    {
     "name": "stdout",
     "output_type": "stream",
     "text": [
      "(5709, 13) (5709,) (1904, 13) (1904,) (3263, 13)\n"
     ]
    }
   ],
   "source": [
    "print(X_train.shape,y_train.shape, X_valid.shape, y_valid.shape, X_test.shape)"
   ]
  },
  {
   "cell_type": "markdown",
   "metadata": {},
   "source": [
    "Changing categorical to numerical features:\n",
    "1. One Hot Encode Keywords+\n",
    "2. TD-IDF Vectorization fo the text feature to apply machine learning algorithm"
   ]
  },
  {
   "cell_type": "code",
   "execution_count": 40,
   "metadata": {},
   "outputs": [],
   "source": [
    "encoder = OneHotEncoder(handle_unknown=\"ignore\", sparse=False)\n",
    "\n",
    "#TRAIN\n",
    "train_kwd_dummies = pd.DataFrame(encoder.fit_transform(X_train[\"keyword+\"].values.reshape(-1,1))) #creating non sparse matrix\n",
    "X_train.reset_index(inplace=True) #needs index to be resetted with concat\n",
    "\n",
    "#concat\n",
    "X_train = pd.concat([X_train, train_kwd_dummies], axis=1)\n",
    "\n",
    "X_train.index = X_train[\"index\"]\n",
    "X_train.drop(\"index\", axis=1, inplace=True)\n"
   ]
  },
  {
   "cell_type": "code",
   "execution_count": 41,
   "metadata": {},
   "outputs": [],
   "source": [
    "valid_kwd_dummies = pd.DataFrame(encoder.transform(X_valid[\"keyword+\"].values.reshape(-1,1)))\n",
    "\n",
    "#VALID\n",
    "X_valid.reset_index(inplace=True) #needs index to be resetted\n",
    "\n",
    "#concat\n",
    "X_valid = pd.concat([X_valid, valid_kwd_dummies], axis=1)\n",
    "\n",
    "X_valid.index = X_valid[\"index\"]\n",
    "X_valid.drop(\"index\", axis=1, inplace=True)"
   ]
  },
  {
   "cell_type": "code",
   "execution_count": 42,
   "metadata": {},
   "outputs": [],
   "source": [
    "test_kwd_dummies = pd.DataFrame(encoder.transform(X_test[\"keyword+\"].values.reshape(-1,1)))\n",
    "\n",
    "#TEST\n",
    "X_test.reset_index(inplace=True) #needs index to be resetted\n",
    "\n",
    "#concat\n",
    "X_test = pd.concat([X_test, test_kwd_dummies], axis=1)\n",
    "\n",
    "X_test.index = X_test[\"index\"]\n",
    "X_test.drop(\"index\", axis=1, inplace=True)"
   ]
  },
  {
   "cell_type": "code",
   "execution_count": 43,
   "metadata": {},
   "outputs": [
    {
     "name": "stdout",
     "output_type": "stream",
     "text": [
      "(5709, 178) (5709,) (1904, 178) (1904,) (3263, 178)\n"
     ]
    }
   ],
   "source": [
    "print(X_train.shape,y_train.shape, X_valid.shape, y_valid.shape, X_test.shape)"
   ]
  },
  {
   "cell_type": "code",
   "execution_count": 44,
   "metadata": {},
   "outputs": [],
   "source": [
    "def text_process(text):\n",
    "    \"\"\"\n",
    "    Takes in a string of text, then performs the following:\n",
    "    1. Remove all punctuation\n",
    "    2. Remove all stopwords\n",
    "    3. Stem the text\n",
    "    4. Returns a list of the cleaned text\n",
    "    \"\"\"\n",
    "    # Check characters to see if they are in punctuation\n",
    "    nopunc = [char for char in text if char not in string.punctuation]\n",
    "\n",
    "    # Join the characters again to form the string.\n",
    "    nopunc = ''.join(nopunc)\n",
    "    \n",
    "    #Stem text\n",
    "    stemmer = PorterStemmer()\n",
    "    \n",
    "    # Now just remove any stopwords\n",
    "    return [stemmer.stem(word) for word in nopunc.split() if word.lower() not in stopwords.words('english')]\n"
   ]
  },
  {
   "cell_type": "code",
   "execution_count": 45,
   "metadata": {},
   "outputs": [],
   "source": [
    "#TRAINING\n",
    "#vectorizing text columns\n",
    "vectorizer = TfidfVectorizer(analyzer=text_process, min_df=5, max_df=0.5, ngram_range=(1,2))\n",
    "\n",
    "train_text_tfidf = vectorizer.fit_transform(X_train['text'])\n",
    "\n",
    "#making a dataframe to concatenate\n",
    "train_text_tfidf = pd.DataFrame(train_text_tfidf.toarray()) #non sparse matrix\n",
    "\n",
    "X_train.reset_index(inplace=True) #needs index to be resetted\n",
    "\n",
    "#concat\n",
    "X_train = pd.concat([X_train, train_text_tfidf], axis=1)\n",
    "\n",
    "X_train.index = X_train[\"index\"]\n",
    "X_train.drop(\"index\", axis=1, inplace=True)"
   ]
  },
  {
   "cell_type": "code",
   "execution_count": 46,
   "metadata": {},
   "outputs": [],
   "source": [
    "#VALIDATION\n",
    "valid_text_tfidf = vectorizer.transform(X_valid['text']) #avoid data leakage\n",
    "\n",
    "#making a dataframe to concatenate\n",
    "valid_text_tfidf = pd.DataFrame(valid_text_tfidf.toarray())\n",
    "\n",
    "X_valid.reset_index(inplace=True) #needs index to be resetted\n",
    "\n",
    "#concat\n",
    "X_valid = pd.concat([X_valid, valid_text_tfidf], axis=1)\n",
    "\n",
    "X_valid.index = X_valid[\"index\"]\n",
    "X_valid.drop(\"index\", axis=1, inplace=True)"
   ]
  },
  {
   "cell_type": "code",
   "execution_count": 47,
   "metadata": {},
   "outputs": [],
   "source": [
    "#TEST\n",
    "test_text_tfidf = vectorizer.transform(X_test['text']) #avoid data leakage\n",
    "\n",
    "#making a dataframe to concatenate\n",
    "test_text_tfidf = pd.DataFrame(test_text_tfidf.toarray())\n",
    "\n",
    "X_test.reset_index(inplace=True) #needs index to be resetted\n",
    "\n",
    "#concat\n",
    "X_test = pd.concat([X_test, test_text_tfidf], axis=1)\n",
    "\n",
    "X_test.index = X_test[\"index\"]\n",
    "X_test.drop(\"index\", axis=1, inplace=True)"
   ]
  },
  {
   "cell_type": "markdown",
   "metadata": {},
   "source": [
    "Let's scale the compound feature first:"
   ]
  },
  {
   "cell_type": "code",
   "execution_count": 48,
   "metadata": {},
   "outputs": [],
   "source": [
    "#scaling the compound feature\n",
    "from sklearn.preprocessing import MinMaxScaler\n",
    "scaler=MinMaxScaler()"
   ]
  },
  {
   "cell_type": "code",
   "execution_count": 49,
   "metadata": {},
   "outputs": [
    {
     "data": {
      "text/plain": [
       "MinMaxScaler()"
      ]
     },
     "execution_count": 49,
     "metadata": {},
     "output_type": "execute_result"
    }
   ],
   "source": [
    "scaler.fit(X_train[\"compound\"].values.reshape(-1,1))\n",
    "# scaler.data_max_"
   ]
  },
  {
   "cell_type": "code",
   "execution_count": 50,
   "metadata": {},
   "outputs": [],
   "source": [
    "X_train[\"compound\"] = scaler.transform(X_train[\"compound\"].values.reshape(-1,1))\n",
    "X_valid[\"compound\"] = scaler.transform(X_valid[\"compound\"].values.reshape(-1,1))\n",
    "X_test[\"compound\"] = scaler.transform(X_test[\"compound\"].values.reshape(-1,1))"
   ]
  },
  {
   "cell_type": "code",
   "execution_count": 51,
   "metadata": {},
   "outputs": [],
   "source": [
    "def drop_columns(df):\n",
    "   return df.drop([\"keyword\", \"id\", \"ashtags\", \"location\", \"text_len\", \"keyword+\", \"text\"], axis=1, inplace=True)"
   ]
  },
  {
   "cell_type": "code",
   "execution_count": 52,
   "metadata": {},
   "outputs": [],
   "source": [
    "#dropping non necessary features\n",
    "drop_columns(X_train)\n",
    "drop_columns(X_valid)\n",
    "drop_columns(X_test)"
   ]
  },
  {
   "cell_type": "code",
   "execution_count": 53,
   "metadata": {},
   "outputs": [
    {
     "name": "stdout",
     "output_type": "stream",
     "text": [
      "(5709, 2163) (5709,) (1904, 2163) (1904,) (3263, 2163)\n"
     ]
    }
   ],
   "source": [
    "print(X_train.shape,y_train.shape, X_valid.shape, y_valid.shape, X_test.shape)"
   ]
  },
  {
   "cell_type": "code",
   "execution_count": 54,
   "metadata": {},
   "outputs": [],
   "source": [
    "#pca didn't give any improvement\n",
    "# pca = PCA(n_components=6, random_state=42)"
   ]
  },
  {
   "cell_type": "code",
   "execution_count": 55,
   "metadata": {},
   "outputs": [],
   "source": [
    "\n",
    "# X_train_pca = pca.fit_transform(X_train)\n",
    "# X_valid_pca=pca.transform(X_valid)"
   ]
  },
  {
   "cell_type": "code",
   "execution_count": 56,
   "metadata": {},
   "outputs": [],
   "source": [
    "# pca.explained_variance_\n",
    "#only first 6 explain variance"
   ]
  },
  {
   "cell_type": "code",
   "execution_count": 57,
   "metadata": {},
   "outputs": [],
   "source": [
    "# print(X_train_pca.shape,y_train.shape, X_valid_pca.shape, y_valid.shape)"
   ]
  },
  {
   "cell_type": "markdown",
   "metadata": {},
   "source": [
    "# Model Evaluation"
   ]
  },
  {
   "cell_type": "code",
   "execution_count": 58,
   "metadata": {},
   "outputs": [],
   "source": [
    "from sklearn.linear_model import LogisticRegression\n",
    "\n",
    "clf = LogisticRegression(C=1,random_state=42).fit(X_train, y_train)"
   ]
  },
  {
   "cell_type": "code",
   "execution_count": 59,
   "metadata": {},
   "outputs": [],
   "source": [
    "prediction = clf.predict(X_valid)"
   ]
  },
  {
   "cell_type": "code",
   "execution_count": 60,
   "metadata": {},
   "outputs": [
    {
     "name": "stdout",
     "output_type": "stream",
     "text": [
      "[[947 144]\n",
      " [222 591]]\n",
      "0.8077731092436975\n",
      "              precision    recall  f1-score   support\n",
      "\n",
      "           0       0.81      0.87      0.84      1091\n",
      "           1       0.80      0.73      0.76       813\n",
      "\n",
      "    accuracy                           0.81      1904\n",
      "   macro avg       0.81      0.80      0.80      1904\n",
      "weighted avg       0.81      0.81      0.81      1904\n",
      "\n",
      "0.7635658914728681\n"
     ]
    }
   ],
   "source": [
    "from sklearn.metrics import accuracy_score, confusion_matrix, classification_report, f1_score\n",
    "\n",
    "print(confusion_matrix(y_valid, prediction))\n",
    "print(accuracy_score(y_valid, prediction))\n",
    "print(classification_report(y_valid, prediction))\n",
    "print(f1_score(y_valid, prediction))\n"
   ]
  },
  {
   "cell_type": "code",
   "execution_count": 61,
   "metadata": {},
   "outputs": [],
   "source": [
    "from sklearn.ensemble import RandomForestClassifier\n",
    "rfc = RandomForestClassifier(n_estimators=100, random_state=42)\n"
   ]
  },
  {
   "cell_type": "code",
   "execution_count": 62,
   "metadata": {},
   "outputs": [
    {
     "data": {
      "text/plain": [
       "RandomForestClassifier(random_state=42)"
      ]
     },
     "execution_count": 62,
     "metadata": {},
     "output_type": "execute_result"
    }
   ],
   "source": [
    "rfc.fit(X_train,y_train)"
   ]
  },
  {
   "cell_type": "code",
   "execution_count": 63,
   "metadata": {},
   "outputs": [],
   "source": [
    "prediction = rfc.predict(X_valid)"
   ]
  },
  {
   "cell_type": "code",
   "execution_count": 64,
   "metadata": {},
   "outputs": [
    {
     "name": "stdout",
     "output_type": "stream",
     "text": [
      "[[975 116]\n",
      " [285 528]]\n",
      "0.789390756302521\n",
      "              precision    recall  f1-score   support\n",
      "\n",
      "           0       0.77      0.89      0.83      1091\n",
      "           1       0.82      0.65      0.72       813\n",
      "\n",
      "    accuracy                           0.79      1904\n",
      "   macro avg       0.80      0.77      0.78      1904\n",
      "weighted avg       0.79      0.79      0.78      1904\n",
      "\n",
      "0.7247769389155799\n"
     ]
    }
   ],
   "source": [
    "print(confusion_matrix(y_valid, prediction))\n",
    "print(accuracy_score(y_valid, prediction))\n",
    "print(classification_report(y_valid, prediction))\n",
    "print(f1_score(y_valid, prediction))"
   ]
  },
  {
   "cell_type": "code",
   "execution_count": 65,
   "metadata": {},
   "outputs": [],
   "source": [
    "from sklearn.svm import SVC\n",
    "svm=SVC()"
   ]
  },
  {
   "cell_type": "code",
   "execution_count": 66,
   "metadata": {},
   "outputs": [
    {
     "data": {
      "text/plain": [
       "SVC()"
      ]
     },
     "execution_count": 66,
     "metadata": {},
     "output_type": "execute_result"
    }
   ],
   "source": [
    "svm.fit(X_train,y_train)"
   ]
  },
  {
   "cell_type": "code",
   "execution_count": 67,
   "metadata": {},
   "outputs": [],
   "source": [
    "prediction = svm.predict(X_valid)"
   ]
  },
  {
   "cell_type": "code",
   "execution_count": 68,
   "metadata": {},
   "outputs": [
    {
     "name": "stdout",
     "output_type": "stream",
     "text": [
      "[[969 122]\n",
      " [262 551]]\n",
      "0.7983193277310925\n",
      "              precision    recall  f1-score   support\n",
      "\n",
      "           0       0.79      0.89      0.83      1091\n",
      "           1       0.82      0.68      0.74       813\n",
      "\n",
      "    accuracy                           0.80      1904\n",
      "   macro avg       0.80      0.78      0.79      1904\n",
      "weighted avg       0.80      0.80      0.79      1904\n",
      "\n",
      "0.7415881561238223\n"
     ]
    }
   ],
   "source": [
    "print(confusion_matrix(y_valid, prediction))\n",
    "print(accuracy_score(y_valid, prediction))\n",
    "print(classification_report(y_valid, prediction))\n",
    "print(f1_score(y_valid, prediction))"
   ]
  },
  {
   "cell_type": "code",
   "execution_count": 69,
   "metadata": {},
   "outputs": [],
   "source": [
    "from sklearn.naive_bayes import MultinomialNB\n",
    "nb = MultinomialNB()"
   ]
  },
  {
   "cell_type": "code",
   "execution_count": 70,
   "metadata": {},
   "outputs": [
    {
     "data": {
      "text/plain": [
       "MultinomialNB()"
      ]
     },
     "execution_count": 70,
     "metadata": {},
     "output_type": "execute_result"
    }
   ],
   "source": [
    "nb.fit(X_train,y_train)"
   ]
  },
  {
   "cell_type": "code",
   "execution_count": 71,
   "metadata": {},
   "outputs": [
    {
     "name": "stdout",
     "output_type": "stream",
     "text": [
      "[[917 174]\n",
      " [227 586]]\n",
      "0.789390756302521\n",
      "              precision    recall  f1-score   support\n",
      "\n",
      "           0       0.80      0.84      0.82      1091\n",
      "           1       0.77      0.72      0.75       813\n",
      "\n",
      "    accuracy                           0.79      1904\n",
      "   macro avg       0.79      0.78      0.78      1904\n",
      "weighted avg       0.79      0.79      0.79      1904\n",
      "\n",
      "0.7450731087094723\n"
     ]
    }
   ],
   "source": [
    "prediction = nb.predict(X_valid)\n",
    "\n",
    "print(confusion_matrix(y_valid, prediction))\n",
    "print(accuracy_score(y_valid, prediction))\n",
    "print(classification_report(y_valid, prediction))\n",
    "print(f1_score(y_valid, prediction))"
   ]
  },
  {
   "cell_type": "markdown",
   "metadata": {},
   "source": [
    "Random Forest performed slightly better than the onthers classifiers. We will fine tune this model:"
   ]
  },
  {
   "cell_type": "code",
   "execution_count": 72,
   "metadata": {},
   "outputs": [],
   "source": [
    "from sklearn.model_selection import GridSearchCV, cross_validate, KFold\n",
    "from sklearn.metrics import make_scorer, accuracy_score, precision_score, recall_score, f1_score"
   ]
  },
  {
   "cell_type": "code",
   "execution_count": 73,
   "metadata": {},
   "outputs": [
    {
     "name": "stdout",
     "output_type": "stream",
     "text": [
      "Accuracy: 78.96 %\n",
      "Standard Deviation: 1.58 %\n",
      "F1_score: 74.03 %\n",
      "Precision: 78.97 %\n",
      "Recall: 69.69 %\n"
     ]
    }
   ],
   "source": [
    "scoring = {'accuracy' : make_scorer(accuracy_score), \n",
    "           'precision' : make_scorer(precision_score),\n",
    "           'recall' : make_scorer(recall_score), \n",
    "           'f1_score' : make_scorer(f1_score)}\n",
    "\n",
    "kfold = KFold(n_splits=10)\n",
    "\n",
    "results = cross_validate(estimator=clf,\n",
    "                            X=X_train,\n",
    "                            y=y_train,\n",
    "                            cv=kfold,\n",
    "                            scoring=scoring)\n",
    "\n",
    "\n",
    "print(\"Accuracy: {:.2f} %\".format(results[\"test_accuracy\"].mean()*100))\n",
    "print(\"Standard Deviation: {:.2f} %\".format(results[\"test_accuracy\"].std()*100))\n",
    "print(\"F1_score: {:.2f} %\".format(results[\"test_f1_score\"].mean()*100))\n",
    "print(\"Precision: {:.2f} %\".format(results[\"test_precision\"].mean()*100))\n",
    "print(\"Recall: {:.2f} %\".format(results[\"test_recall\"].mean()*100))\n"
   ]
  },
  {
   "cell_type": "code",
   "execution_count": 74,
   "metadata": {},
   "outputs": [
    {
     "name": "stdout",
     "output_type": "stream",
     "text": [
      "Fitting 5 folds for each of 7 candidates, totalling 35 fits\n",
      "Best f1: 73.63 %\n",
      "Best Parameters: {'C': 1}\n"
     ]
    }
   ],
   "source": [
    "parameters = [{'C': [0.001, 0.01, 0.1, 1, 10, 100, 1000] }]\n",
    "grid_search = GridSearchCV(estimator = clf,\n",
    "                           param_grid = parameters,\n",
    "                           scoring = 'f1',\n",
    "                           cv = 5,\n",
    "                           n_jobs = -1,\n",
    "                           verbose=2)\n",
    "grid_search.fit(X_train, y_train)\n",
    "best_accuracy = grid_search.best_score_\n",
    "best_parameters = grid_search.best_params_\n",
    "print(\"Best f1: {:.2f} %\".format(best_accuracy*100))\n",
    "print(\"Best Parameters:\", best_parameters)"
   ]
  },
  {
   "cell_type": "code",
   "execution_count": 75,
   "metadata": {},
   "outputs": [],
   "source": [
    "test_prediction = clf.predict(X_test)"
   ]
  },
  {
   "cell_type": "code",
   "execution_count": 76,
   "metadata": {},
   "outputs": [
    {
     "data": {
      "text/plain": [
       "array([1, 1, 1, ..., 1, 1, 0], dtype=int64)"
      ]
     },
     "execution_count": 76,
     "metadata": {},
     "output_type": "execute_result"
    }
   ],
   "source": [
    "test_prediction"
   ]
  },
  {
   "cell_type": "code",
   "execution_count": 77,
   "metadata": {},
   "outputs": [],
   "source": [
    "submission = pd.DataFrame({'id': pd.read_csv(\"test.csv\").id.values,\n",
    "                           'target': test_prediction})\n"
   ]
  },
  {
   "cell_type": "code",
   "execution_count": 78,
   "metadata": {},
   "outputs": [],
   "source": [
    "submission.to_csv(\"submission.csv\", index=False)"
   ]
  },
  {
   "cell_type": "code",
   "execution_count": 79,
   "metadata": {},
   "outputs": [
    {
     "data": {
      "text/plain": [
       "3263"
      ]
     },
     "execution_count": 79,
     "metadata": {},
     "output_type": "execute_result"
    }
   ],
   "source": [
    "len(submission)"
   ]
  }
 ],
 "metadata": {
  "interpreter": {
   "hash": "a08def3feecf555140c90d8870f4c16650ce625e96219a5a47080a72c25a4463"
  },
  "kernelspec": {
   "display_name": "Python 3.9.7 64-bit ('study': venv)",
   "language": "python",
   "name": "python3"
  },
  "language_info": {
   "codemirror_mode": {
    "name": "ipython",
    "version": 3
   },
   "file_extension": ".py",
   "mimetype": "text/x-python",
   "name": "python",
   "nbconvert_exporter": "python",
   "pygments_lexer": "ipython3",
   "version": "3.9.7"
  },
  "orig_nbformat": 4
 },
 "nbformat": 4,
 "nbformat_minor": 2
}
